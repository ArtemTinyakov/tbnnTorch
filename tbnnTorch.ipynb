{
 "cells": [
  {
   "cell_type": "code",
   "execution_count": 1,
   "id": "106938a5",
   "metadata": {},
   "outputs": [],
   "source": [
    "import torch\n",
    "import torch.nn as nn\n",
    "import torch.nn.functional as F\n",
    "import torch.optim as optim\n",
    "from torch.autograd import Variable\n",
    "import numpy as np\n",
    "import pandas as pd\n",
    "import matplotlib.pyplot as plt\n",
    "from tqdm import tqdm\n",
    "import pickle"
   ]
  },
  {
   "cell_type": "code",
   "execution_count": 2,
   "id": "21944192",
   "metadata": {},
   "outputs": [],
   "source": [
    "def timeStepsList():\n",
    "    timeStepsList = np.loadtxt(\"timeStepsList.txt\", dtype=str)\n",
    "    index = np.argsort(timeStepsList.astype('float32'))\n",
    "    timeStepsList = timeStepsList[index]\n",
    "    return list(timeStepsList)"
   ]
  },
  {
   "cell_type": "code",
   "execution_count": 3,
   "id": "c3dc3621",
   "metadata": {},
   "outputs": [],
   "source": [
    "def readFile(filename, sz):\n",
    "    res = []\n",
    "    data = pd.read_csv(filename, header=None, skiprows=23, nrows=sz, dtype=str)\n",
    "    data = data.iloc[:, 0].str.replace('[(,)]', '', regex=True)\n",
    "    for row in data:\n",
    "        row = row.split()\n",
    "        data = []\n",
    "        for val in row:\n",
    "            data.append(float(val))\n",
    "        res.append(data)\n",
    "    return np.array(res)"
   ]
  },
  {
   "cell_type": "code",
   "execution_count": 4,
   "id": "701ddb06",
   "metadata": {},
   "outputs": [],
   "source": [
    "def normalize(x):\n",
    "    return x/(np.max(abs(x), axis=0)+0.00000001)"
   ]
  },
  {
   "cell_type": "code",
   "execution_count": 5,
   "id": "592d4149",
   "metadata": {},
   "outputs": [],
   "source": [
    "def formDataset(*args):\n",
    "    return Variable(torch.tensor(normalize(np.concatenate(args, axis=1))).type(torch.FloatTensor), requires_grad=True)"
   ]
  },
  {
   "cell_type": "code",
   "execution_count": 6,
   "id": "52e17477",
   "metadata": {},
   "outputs": [],
   "source": [
    "def writePredict(pred, folder):\n",
    "    with open('patterns/dUPatternBeginning', 'r') as f:\n",
    "        dUPatternBeginning = f.readlines()\n",
    "        \n",
    "    with open('patterns/dUPatternEnding', 'r') as f:\n",
    "        dUPatternEnding = f.readlines()\n",
    "        \n",
    "    with open('patterns/dpPatternBeginning', 'r') as f:\n",
    "        dpPatternBeginning = f.readlines()\n",
    "        \n",
    "    with open('patterns/dpPatternEnding', 'r') as f:\n",
    "        dpPatternEnding = f.readlines()\n",
    "    \n",
    "    fU = open(folder + 'dU', 'w')\n",
    "    fp = open(folder + 'dp', 'w')\n",
    "    \n",
    "    fU.writelines(dUPatternBeginning)\n",
    "    fU.write(f'{len(pred)}\\n(\\n')\n",
    "    fp.writelines(dpPatternBeginning)\n",
    "    fp.write(f'{len(pred)}\\n(\\n')\n",
    "    \n",
    "    for val in pred:\n",
    "        fU.write(f'({val[0].item()} {val[1].item()} {val[2].item()})\\n')\n",
    "        fp.write(f'{val[3].item()}\\n')\n",
    "        \n",
    "    fU.writelines(dUPatternEnding)\n",
    "    fp.writelines(dpPatternEnding)\n",
    "    \n",
    "    fU.close()\n",
    "    fp.close()"
   ]
  },
  {
   "cell_type": "code",
   "execution_count": 7,
   "id": "075760d5",
   "metadata": {},
   "outputs": [],
   "source": [
    "sz = 2785000 # 139100"
   ]
  },
  {
   "cell_type": "code",
   "execution_count": 8,
   "id": "d3d3d0b8",
   "metadata": {},
   "outputs": [
    {
     "name": "stdout",
     "output_type": "stream",
     "text": [
      "CPU times: user 54min 23s, sys: 3min 9s, total: 57min 33s\n",
      "Wall time: 59min 29s\n"
     ]
    }
   ],
   "source": [
    "%%time\n",
    "\n",
    "times = timeStepsList()\n",
    "foldersRes = [f'TPF{time}/res/' for time in times]\n",
    "foldersRef = [f'TPF{time}/ref/' for time in times]\n",
    "    \n",
    "IsRes = [np.concatenate([readFile(folder+filename, sz) for folder in foldersRes], axis=0) for filename in [f'I{i}' for i in range(5)]]\n",
    "TsRes = [np.concatenate([readFile(folder+filename, sz) for folder in foldersRes], axis=0) for filename in [f'T{i}' for i in range(10)]]\n",
    "URes = np.concatenate([readFile(folder + 'U', sz) for folder in foldersRes], axis=0)\n",
    "pRes = np.concatenate([readFile(folder + 'p', sz) for folder in foldersRes], axis=0)\n",
    "# gradPRes = np.concatenate([readFile(folder + 'gradP', sz) for folder in foldersRes], axis=0)\n",
    "# gradURes = np.concatenate([readFile(folder + 'gradU', sz) for folder in foldersRes], axis=0)\n",
    "inv1GradURes = np.concatenate([readFile(folder + 'inv1GradU', sz) for folder in foldersRes], axis=0)\n",
    "inv2GradURes = np.concatenate([readFile(folder + 'inv2GradU', sz) for folder in foldersRes], axis=0)\n",
    "magGradPRes = np.concatenate([readFile(folder + 'magGradP', sz) for folder in foldersRes], axis=0)\n",
    "rotationRateTensorRes = np.concatenate([readFile(folder + 'rotationRateTensor', sz) for folder in foldersRes], axis=0)\n",
    "strainRateTensorRes = np.concatenate([readFile(folder + 'strainRateTensor', sz) for folder in foldersRes], axis=0)\n",
    "\n",
    "URef = np.concatenate([readFile(folder + 'U', sz) for folder in foldersRef], axis=0)\n",
    "pRef = np.concatenate([readFile(folder + 'p', sz) for folder in foldersRef], axis=0)"
   ]
  },
  {
   "cell_type": "code",
   "execution_count": 10,
   "id": "4b76f3ba",
   "metadata": {},
   "outputs": [
    {
     "data": {
      "text/plain": [
       "(920212, 100000)"
      ]
     },
     "execution_count": 10,
     "metadata": {},
     "output_type": "execute_result"
    }
   ],
   "source": [
    "not_interesting_indexes = np.random.choice(np.where(abs(URes.transpose()[1]) <= 0.2)[0], 100000, replace=False)\n",
    "interesting_indexes = np.where(abs(URes.transpose()[1]) > 0.2)[0]\n",
    "len(interesting_indexes), len(not_interesting_indexes)"
   ]
  },
  {
   "cell_type": "code",
   "execution_count": 11,
   "id": "14476dee",
   "metadata": {},
   "outputs": [],
   "source": [
    "for i in range(len(IsRes)):\n",
    "    IsRes[i] = np.concatenate([IsRes[i][interesting_indexes], IsRes[i][not_interesting_indexes]], axis=0)\n",
    "for i in range(len(TsRes)):\n",
    "    TsRes[i] = np.concatenate([TsRes[i][interesting_indexes], TsRes[i][not_interesting_indexes]], axis=0)\n",
    "URes = np.concatenate([URes[interesting_indexes], URes[not_interesting_indexes]], axis=0)\n",
    "pRes = np.concatenate([pRes[interesting_indexes], pRes[not_interesting_indexes]], axis=0)\n",
    "inv1GradURes = np.concatenate([inv1GradURes[interesting_indexes], inv1GradURes[not_interesting_indexes]], axis=0)\n",
    "inv2GradURes = np.concatenate([inv2GradURes[interesting_indexes], inv2GradURes[not_interesting_indexes]], axis=0)\n",
    "magGradPRes = np.concatenate([magGradPRes[interesting_indexes], magGradPRes[not_interesting_indexes]], axis=0)\n",
    "rotationRateTensorRes = np.concatenate([rotationRateTensorRes[interesting_indexes], rotationRateTensorRes[not_interesting_indexes]], axis=0)\n",
    "strainRateTensorRes = np.concatenate([strainRateTensorRes[interesting_indexes], strainRateTensorRes[not_interesting_indexes]], axis=0)\n",
    "URef = np.concatenate([URef[interesting_indexes], URef[not_interesting_indexes]], axis=0)\n",
    "pRef = np.concatenate([pRef[interesting_indexes], pRef[not_interesting_indexes]], axis=0)"
   ]
  },
  {
   "cell_type": "code",
   "execution_count": 12,
   "id": "506ef3b5",
   "metadata": {},
   "outputs": [],
   "source": [
    "nonTensorInput = formDataset(*IsRes, pRes, inv1GradURes, inv2GradURes, magGradPRes)\n",
    "tensorInput = formDataset(*TsRes)"
   ]
  },
  {
   "cell_type": "code",
   "execution_count": 13,
   "id": "ae5cd6db",
   "metadata": {},
   "outputs": [
    {
     "ename": "ValueError",
     "evalue": "all the input array dimensions for the concatenation axis must match exactly, but along dimension 0, the array at index 0 has size 1020212 and the array at index 1 has size 1840424",
     "output_type": "error",
     "traceback": [
      "\u001b[0;31m---------------------------------------------------------------------------\u001b[0m",
      "\u001b[0;31mValueError\u001b[0m                                Traceback (most recent call last)",
      "\u001b[0;32m/tmp/ipykernel_204940/3737374745.py\u001b[0m in \u001b[0;36m<module>\u001b[0;34m\u001b[0m\n\u001b[0;32m----> 1\u001b[0;31m \u001b[0mtarget\u001b[0m \u001b[0;34m=\u001b[0m \u001b[0mVariable\u001b[0m\u001b[0;34m(\u001b[0m\u001b[0mtorch\u001b[0m\u001b[0;34m.\u001b[0m\u001b[0mtensor\u001b[0m\u001b[0;34m(\u001b[0m\u001b[0mnp\u001b[0m\u001b[0;34m.\u001b[0m\u001b[0mconcatenate\u001b[0m\u001b[0;34m(\u001b[0m\u001b[0;34m(\u001b[0m\u001b[0mURef\u001b[0m\u001b[0;34m,\u001b[0m \u001b[0mpRef\u001b[0m\u001b[0;34m)\u001b[0m\u001b[0;34m,\u001b[0m \u001b[0maxis\u001b[0m\u001b[0;34m=\u001b[0m\u001b[0;36m1\u001b[0m\u001b[0;34m)\u001b[0m \u001b[0;34m-\u001b[0m \u001b[0mnp\u001b[0m\u001b[0;34m.\u001b[0m\u001b[0mconcatenate\u001b[0m\u001b[0;34m(\u001b[0m\u001b[0;34m(\u001b[0m\u001b[0mURes\u001b[0m\u001b[0;34m,\u001b[0m \u001b[0mpRes\u001b[0m\u001b[0;34m)\u001b[0m\u001b[0;34m,\u001b[0m \u001b[0maxis\u001b[0m\u001b[0;34m=\u001b[0m\u001b[0;36m1\u001b[0m\u001b[0;34m)\u001b[0m\u001b[0;34m)\u001b[0m\u001b[0;34m.\u001b[0m\u001b[0mtype\u001b[0m\u001b[0;34m(\u001b[0m\u001b[0mtorch\u001b[0m\u001b[0;34m.\u001b[0m\u001b[0mFloatTensor\u001b[0m\u001b[0;34m)\u001b[0m\u001b[0;34m,\u001b[0m \u001b[0mrequires_grad\u001b[0m\u001b[0;34m=\u001b[0m\u001b[0;32mTrue\u001b[0m\u001b[0;34m)\u001b[0m\u001b[0;34m\u001b[0m\u001b[0;34m\u001b[0m\u001b[0m\n\u001b[0m",
      "\u001b[0;32m<__array_function__ internals>\u001b[0m in \u001b[0;36mconcatenate\u001b[0;34m(*args, **kwargs)\u001b[0m\n",
      "\u001b[0;31mValueError\u001b[0m: all the input array dimensions for the concatenation axis must match exactly, but along dimension 0, the array at index 0 has size 1020212 and the array at index 1 has size 1840424"
     ]
    }
   ],
   "source": [
    "target = Variable(torch.tensor(np.concatenate((URef, pRef), axis=1) - np.concatenate((URes, pRes), axis=1)).type(torch.FloatTensor), requires_grad=True)"
   ]
  },
  {
   "cell_type": "code",
   "execution_count": 8,
   "id": "cee72088",
   "metadata": {},
   "outputs": [],
   "source": [
    "class TBNN(nn.Module):\n",
    "    \n",
    "    def __init__(self, hiddenLayerNeurons=256):\n",
    "        super(TBNN, self).__init__()\n",
    "        self.fc1 = nn.Linear(len(nonTensorInput[0]), hiddenLayerNeurons, dtype=torch.float32)\n",
    "        self.fc2 = nn.Linear(hiddenLayerNeurons, len(tensorInput[0]), dtype=torch.float32)\n",
    "        self.fc3 = nn.Bilinear(len(tensorInput[0]), len(tensorInput[0]), 4)\n",
    "        \n",
    "    def forward(self, x1, x2):\n",
    "        x = F.tanh(self.fc1(x1))\n",
    "        x = F.tanh(self.fc2(x))\n",
    "        x = self.fc3(x, x2)\n",
    "        return x"
   ]
  },
  {
   "cell_type": "code",
   "execution_count": 9,
   "id": "9c624d40",
   "metadata": {},
   "outputs": [],
   "source": [
    "def fit(model, optimizer, criterion, x1, x2, y, batch_size=100, train=True):\n",
    "\n",
    "    assert len(x1) == len(x2) == len(y)\n",
    "    \n",
    "    model.train(train)                                     # важно для Dropout, BatchNorm\n",
    "    sumL, numB = 0, int(len(x1)/batch_size)                # ошибка, количество батчей\n",
    "       \n",
    "    for i in range(0, numB*batch_size, batch_size):          \n",
    "        x1b = x1[i: i+batch_size]                          # текущий батч,\n",
    "        x2b = x2[i: i+batch_size]\n",
    "        yb = y[i: i+batch_size]                            # x1, x2, y - torch тензоры\n",
    "        \n",
    "        y_ = model(x1b, x2b)                                # прямое распространение\n",
    "        L = criterion(y_, yb)                               # вычисляем ошибку\n",
    "  \n",
    "        if train:                                          # в режиме обучения\n",
    "            optimizer.zero_grad()                          # обнуляем градиенты        \n",
    "            L.backward()                                   # вычисляем градиенты            \n",
    "            optimizer.step()                               # подправляем параметры\n",
    "                                     \n",
    "        sumL += L.item()                                   # суммарная ошибка (item из графа)\n",
    "         \n",
    "    return sumL/numB                                       # средняя ошибка"
   ]
  },
  {
   "cell_type": "code",
   "execution_count": 15,
   "id": "e5d459ce",
   "metadata": {
    "scrolled": true
   },
   "outputs": [],
   "source": [
    "# models = [TBNN(i) for i in [8, 16, 32, 64, 128, 256, 512, 1024, 2048, 4096]] # 1024 best\n",
    "# models\n",
    "model = TBNN(1024)"
   ]
  },
  {
   "cell_type": "code",
   "execution_count": 16,
   "id": "4b3afcf3",
   "metadata": {
    "scrolled": true
   },
   "outputs": [
    {
     "data": {
      "text/plain": [
       "(SGD (\n",
       " Parameter Group 0\n",
       "     dampening: 0\n",
       "     differentiable: False\n",
       "     foreach: None\n",
       "     lr: 0.001\n",
       "     maximize: False\n",
       "     momentum: 0.9\n",
       "     nesterov: False\n",
       "     weight_decay: 0\n",
       " ),\n",
       " L1Loss())"
      ]
     },
     "execution_count": 16,
     "metadata": {},
     "output_type": "execute_result"
    }
   ],
   "source": [
    "# optimizers = [optim.SGD(model.parameters(), lr=0.001, momentum=0.9) for model in models]\n",
    "# criterions = [nn.L1Loss() for i in range(len(models))]\n",
    "# optimizers, criterions\n",
    "optimizer = optim.SGD(model.parameters(), lr=0.001, momentum=0.9)\n",
    "criterion = nn.L1Loss()\n",
    "optimizer, criterion"
   ]
  },
  {
   "cell_type": "code",
   "execution_count": 17,
   "id": "3dff5844",
   "metadata": {},
   "outputs": [],
   "source": [
    "epochs = 100"
   ]
  },
  {
   "cell_type": "code",
   "execution_count": 18,
   "id": "19b64900",
   "metadata": {
    "scrolled": false
   },
   "outputs": [
    {
     "name": "stderr",
     "output_type": "stream",
     "text": [
      "100%|███████████████████████████████████████████| 50/50 [47:56<00:00, 57.53s/it]\n"
     ]
    }
   ],
   "source": [
    "# losses = {i: [] for i in range(len(models))}\n",
    "# for i in range(len(models)):\n",
    "#     for epoch in tqdm(range(epochs)):\n",
    "#         losses[i].append(fit(models[i], optimizers[i], criterions[i], nonTensorInput, tensorInput, target, batch_size=5000))\n",
    "losses = []\n",
    "for epoch in tqdm(range(epochs)):\n",
    "    losses.append(fit(model, optimizer, criterion, nonTensorInput, tensorInput, target, batch_size=5000))"
   ]
  },
  {
   "cell_type": "code",
   "execution_count": 19,
   "id": "997364bd",
   "metadata": {},
   "outputs": [
    {
     "data": {
      "text/plain": [
       "[<matplotlib.lines.Line2D at 0x7f8e462c68e0>]"
      ]
     },
     "execution_count": 19,
     "metadata": {},
     "output_type": "execute_result"
    },
    {
     "data": {
      "image/png": "[encoded data removed]",
      "text/plain": [
       "<Figure size 640x480 with 1 Axes>"
      ]
     },
     "metadata": {},
     "output_type": "display_data"
    }
   ],
   "source": [
    "# fig, ax = plt.subplots()\n",
    "# for l in losses.values():\n",
    "#     ax.plot(list(range(100)), l)\n",
    "# ax.legend(list(losses.keys()))\n",
    "# plt.show()\n",
    "plt.plot(list(range(epochs)), losses)"
   ]
  },
  {
   "cell_type": "code",
   "execution_count": 20,
   "id": "33ee0254",
   "metadata": {},
   "outputs": [
    {
     "data": {
      "text/plain": [
       "[<matplotlib.lines.Line2D at 0x7f8e4612adf0>]"
      ]
     },
     "execution_count": 20,
     "metadata": {},
     "output_type": "execute_result"
    },
    {
     "data": {
      "image/png": "[encoded data removed]",
      "text/plain": [
       "<Figure size 640x480 with 1 Axes>"
      ]
     },
     "metadata": {},
     "output_type": "display_data"
    }
   ],
   "source": [
    "# fig, ax = plt.subplots()\n",
    "# for l in losses.values():\n",
    "#     ax.plot(list(range(10)), l[90:])\n",
    "# ax.legend(list(losses.keys()))\n",
    "# plt.show()\n",
    "plt.plot(list(range(epochs))[90:], losses[90:])"
   ]
  },
  {
   "cell_type": "code",
   "execution_count": 21,
   "id": "82ec917b",
   "metadata": {
    "scrolled": true
   },
   "outputs": [
    {
     "data": {
      "text/plain": [
       "0.011818012676951362"
      ]
     },
     "execution_count": 21,
     "metadata": {},
     "output_type": "execute_result"
    }
   ],
   "source": [
    "# for key, val in losses.items():\n",
    "#     print(min(val))\n",
    "min(losses)"
   ]
  },
  {
   "cell_type": "code",
   "execution_count": null,
   "id": "a2e7e74c",
   "metadata": {},
   "outputs": [],
   "source": [
    "#writePredict(model(nonTensorInput, tensorInput), 'TPF150.1/pred/')"
   ]
  },
  {
   "cell_type": "code",
   "execution_count": 22,
   "id": "55ec7df1",
   "metadata": {},
   "outputs": [],
   "source": [
    "with open('tbnn.pickle', 'wb') as f:\n",
    "    pickle.dump(model, f)"
   ]
  }
 ],
 "metadata": {
  "kernelspec": {
   "display_name": "Python 3 (ipykernel)",
   "language": "python",
   "name": "python3"
  },
  "language_info": {
   "codemirror_mode": {
    "name": "ipython",
    "version": 3
   },
   "file_extension": ".py",
   "mimetype": "text/x-python",
   "name": "python",
   "nbconvert_exporter": "python",
   "pygments_lexer": "ipython3",
   "version": "3.9.13"
  }
 },
 "nbformat": 4,
 "nbformat_minor": 5
}
